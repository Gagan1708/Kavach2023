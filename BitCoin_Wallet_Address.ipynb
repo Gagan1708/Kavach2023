{
 "cells": [
  {
   "cell_type": "code",
   "execution_count": 12,
   "id": "813f51a4",
   "metadata": {},
   "outputs": [
    {
     "name": "stdout",
     "output_type": "stream",
     "text": [
      "Valid Bitcoin address\n"
     ]
    }
   ],
   "source": [
    "import re\n",
    "\n",
    "def validate_bitcoin_address(address):\n",
    "    if re.match(\"^[13][a-km-zA-HJ-NP-Z1-9]{25,34}$\", address):\n",
    "        return True\n",
    "    else:\n",
    "        return False\n",
    "\n",
    "address = \"3FZbgi29cpjq2GjdwV8eyHuJJnkLtktZc5\"\n",
    "if validate_bitcoin_address(address):\n",
    "    print(\"Valid Bitcoin address\")\n",
    "else:\n",
    "    print(\"Invalid Bitcoin address\")"
   ]
  }
 ],
 "metadata": {
  "kernelspec": {
   "display_name": "Python 3 (ipykernel)",
   "language": "python",
   "name": "python3"
  },
  "language_info": {
   "codemirror_mode": {
    "name": "ipython",
    "version": 3
   },
   "file_extension": ".py",
   "mimetype": "text/x-python",
   "name": "python",
   "nbconvert_exporter": "python",
   "pygments_lexer": "ipython3",
   "version": "3.9.5"
  }
 },
 "nbformat": 4,
 "nbformat_minor": 5
}
