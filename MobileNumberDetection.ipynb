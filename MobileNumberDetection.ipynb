{
 "cells": [
  {
   "cell_type": "code",
   "execution_count": 6,
   "id": "59f6fac4",
   "metadata": {},
   "outputs": [
    {
     "name": "stdout",
     "output_type": "stream",
     "text": [
      "Valid Phone Number\n"
     ]
    }
   ],
   "source": [
    "import re \n",
    "def validate_phone_number(number): \n",
    "    if re.match(\"^(?:\\+91|0)?[6789]\\d{9}$\", number): \n",
    "        return True \n",
    "    else: \n",
    "        return False\n",
    "number = \"9254234529\"\n",
    "if validate_phone_number(number): \n",
    "    print(\"Valid Phone Number\") \n",
    "else: \n",
    "    print(\"Invalid Phone Number\")"
   ]
  },
  {
   "cell_type": "code",
   "execution_count": null,
   "id": "732448a8",
   "metadata": {},
   "outputs": [],
   "source": []
  }
 ],
 "metadata": {
  "kernelspec": {
   "display_name": "Python 3 (ipykernel)",
   "language": "python",
   "name": "python3"
  },
  "language_info": {
   "codemirror_mode": {
    "name": "ipython",
    "version": 3
   },
   "file_extension": ".py",
   "mimetype": "text/x-python",
   "name": "python",
   "nbconvert_exporter": "python",
   "pygments_lexer": "ipython3",
   "version": "3.9.5"
  }
 },
 "nbformat": 4,
 "nbformat_minor": 5
}
